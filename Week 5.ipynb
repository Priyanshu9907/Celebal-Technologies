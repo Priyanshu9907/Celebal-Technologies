{
 "cells": [
  {
   "cell_type": "code",
   "execution_count": 2,
   "id": "4b5bf55b-4d43-4bba-96b2-071203f611f6",
   "metadata": {},
   "outputs": [
    {
     "name": "stdout",
     "output_type": "stream",
     "text": [
      "Missing values before handling: Pregnancies                 0\n",
      "Glucose                     0\n",
      "BloodPressure               0\n",
      "SkinThickness               0\n",
      "Insulin                     0\n",
      "BMI                         0\n",
      "DiabetesPedigreeFunction    0\n",
      "Age                         0\n",
      "Outcome                     0\n",
      "dtype: int64\n",
      "Missing values after replacing zeros: Pregnancies                   0\n",
      "Glucose                       5\n",
      "BloodPressure                35\n",
      "SkinThickness               227\n",
      "Insulin                     374\n",
      "BMI                          11\n",
      "DiabetesPedigreeFunction      0\n",
      "Age                           0\n",
      "Outcome                       0\n",
      "dtype: int64\n",
      "   Pregnancies   Glucose  BloodPressure  SkinThickness   Insulin       BMI  \\\n",
      "0     0.639947  0.866045      -0.031990       0.670643 -0.181541  0.166619   \n",
      "1    -0.844885 -1.205066      -0.528319      -0.012301 -0.181541 -0.852200   \n",
      "2     1.233880  2.016662      -0.693761      -0.012301 -0.181541 -1.332500   \n",
      "3    -0.844885 -1.073567      -0.528319      -0.695245 -0.540642 -0.633881   \n",
      "4    -1.141852  0.504422      -2.679076       0.670643  0.316566  1.549303   \n",
      "\n",
      "   DiabetesPedigreeFunction       Age  Outcome  \n",
      "0                  0.468492  1.425995        1  \n",
      "1                 -0.365061 -0.190672        0  \n",
      "2                  0.604397 -0.105584        1  \n",
      "3                 -0.920763 -1.041549        0  \n",
      "4                  5.484909 -0.020496        1  \n"
     ]
    }
   ],
   "source": [
    "import pandas as pd\n",
    "import numpy as np\n",
    "from sklearn.impute import SimpleImputer\n",
    "from sklearn.preprocessing import StandardScaler\n",
    "\n",
    "# Load the dataset\n",
    "\n",
    "df = pd.read_csv(\"diabetes.csv\")\n",
    "\n",
    "# Step 1: Cleaning the Data\n",
    "# Checking for missing values\n",
    "print(\"Missing values before handling:\", df.isnull().sum())\n",
    "\n",
    "# Step 2: Handling Missing Values\n",
    "# Replace zeros with NaN in specific columns\n",
    "columns_with_zeros = ['Glucose', 'BloodPressure', 'SkinThickness', 'Insulin', 'BMI']\n",
    "df[columns_with_zeros] = df[columns_with_zeros].replace(0, np.nan)\n",
    "\n",
    "# Check the number of missing values after replacement\n",
    "print(\"Missing values after replacing zeros:\", df.isnull().sum())\n",
    "\n",
    "# Impute missing values using the median strategy\n",
    "imputer = SimpleImputer(strategy='median')\n",
    "df[columns_with_zeros] = imputer.fit_transform(df[columns_with_zeros])\n",
    "\n",
    "# Step 3: Transformation\n",
    "# No additional transformations needed at this point\n",
    "\n",
    "# Step 4: Normalization\n",
    "scaler = StandardScaler()\n",
    "df[columns_with_zeros + ['Pregnancies', 'DiabetesPedigreeFunction', 'Age']] = scaler.fit_transform(df[columns_with_zeros + ['Pregnancies', 'DiabetesPedigreeFunction', 'Age']])\n",
    "\n",
    "# Step 5: Encoding\n",
    "# The Outcome column is already encoded\n",
    "\n",
    "# Step 6: Feature Engineering\n",
    "# No new features to add at this point\n",
    "\n",
    "# Display the first few rows of the preprocessed dataset\n",
    "print(df.head())\n"
   ]
  },
  {
   "cell_type": "code",
   "execution_count": null,
   "id": "8cfc8123-437f-4c9f-80a6-04d4c6493fab",
   "metadata": {},
   "outputs": [],
   "source": []
  }
 ],
 "metadata": {
  "kernelspec": {
   "display_name": "Python 3 (ipykernel)",
   "language": "python",
   "name": "python3"
  },
  "language_info": {
   "codemirror_mode": {
    "name": "ipython",
    "version": 3
   },
   "file_extension": ".py",
   "mimetype": "text/x-python",
   "name": "python",
   "nbconvert_exporter": "python",
   "pygments_lexer": "ipython3",
   "version": "3.11.7"
  }
 },
 "nbformat": 4,
 "nbformat_minor": 5
}
